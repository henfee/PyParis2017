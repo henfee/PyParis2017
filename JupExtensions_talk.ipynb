{
 "cells": [
  {
   "cell_type": "markdown",
   "metadata": {
    "run_control": {
     "marked": false
    }
   },
   "source": [
    "\\title{Some extensions for Jupyter/IPython notebook}\n",
    "\\author{J.-F Bercher \\par \\par Professor at ESIEE Paris}\n",
    "\\maketitle"
   ]
  },
  {
   "cell_type": "markdown",
   "metadata": {},
   "source": [
    "**Foreword -- ** \n",
    "\n",
    "This notebook was used during a talk at [PyParis 2017](http://pyparis.org/). In order to fully reproduce what was done there, \n",
    "\n",
    "1. you should have a working installation of the  [jupyter_contrib](https://github.com/ipython-contrib/jupyter_contrib_nbextensions) notebook extensions. See [here](https://github.com/ipython-contrib/jupyter_contrib_nbextensions) for installation instructions. Using pip, it should be as easy as\n",
    "```\n",
    "pip install https://github.com/ipython-contrib/jupyter_contrib_nbextensions/tarball/master\n",
    "```\n",
    "and then \n",
    "```\n",
    "jupyter contrib nbextension install --user\n",
    "``` \n",
    "(or `--system` to install system wide). The, you should enable at least `highlighter`, `latex_envs`\n",
    "\n",
    "2. You need to have a copy of the following repo and a demo nbextension `toggleCase` installed: do this by\n",
    "    - install the demo nbextension by \n",
    "    ```\n",
    "    jupyter nbextension install https://rawgit.com/jfbercher/small_nbextensions/master/toggleCase.zip --user\n",
    "    ```\n",
    "    - download https://rawgit.com/jfbercher/PyParis2017/master/JupNbextensions.zip, unzip, change to yyyy directory and \\underline{run jupyter notebook from that directory} (this preserve links) -- alternatively, you can just git clone this repo.\n",
    "    \n",
    "3. Displaying correcly the present notebook needs the [jupyter_latex_envs](https://pypi.python.org/pypi/jupyter_latex_envs) nbextension to be installed and enabled; is it not a strong requirement though.\n",
    "\n",
    "- Unfortunately, during the talk, the demo for `python-markdown` failed. This was due to the fact that this extension needs the notebook to be *trusted* (by pressing a menu button on the upper right)"
   ]
  },
  {
   "cell_type": "code",
   "execution_count": 4,
   "metadata": {},
   "outputs": [
    {
     "data": {
      "application/javascript": [
       "// Load useful extensions\n",
       "Jupyter.utils.load_extensions('highlighter/highlighter')\n",
       "Jupyter.utils.load_extensions('latex_envs/latex_envs')"
      ],
      "text/plain": [
       "<IPython.core.display.Javascript object>"
      ]
     },
     "metadata": {},
     "output_type": "display_data"
    }
   ],
   "source": [
    "%%javascript\n",
    "// Load useful extensions\n",
    "Jupyter.utils.load_extensions('highlighter/highlighter')\n",
    "Jupyter.utils.load_extensions('latex_envs/latex_envs')"
   ]
  },
  {
   "cell_type": "markdown",
   "metadata": {},
   "source": [
    "# Objective and agenda"
   ]
  },
  {
   "cell_type": "markdown",
   "metadata": {
    "solution": "shown",
    "solution_first": true
   },
   "source": [
    "- Present and describe some Jupyter/IPython notebook extensions by the author and others of the [jupyter_contrib_nbextensions](https://github.com/ipython-contrib/jupyter_contrib_nbextensions) group which are useful for\n",
    "\n",
    "    - core development and data analysis,\n",
    "    - authoring; publication of research reports and papers,\n",
    "    - education/classroom animation.\n",
    "- [*jupyter_contrib_nbextensions is also a forum to experiment new ideas and have fun*]    \n",
    "- Give some hints on ways to develop an nbextension\n",
    "- call for ideas and contributors for the `jupyter_contrib_nbextensions` group"
   ]
  },
  {
   "cell_type": "markdown",
   "metadata": {
    "solution": "shown"
   },
   "source": [
    "\\begin{comment}\n",
    "\n",
    "- open source: many contributors to find in the commit history\n",
    "- will preferentially describe extensions I have initiated or contributed to, but also other ones\n",
    "- even if I say \"I\" or \"my\", there are often other contribs (code by others/suggestions/patches,etc )\n",
    "\\end{comment}\n",
    "\n",
    "\\begin{comment}\n",
    "\n",
    "- Wonderful introduction by Sylvain Corlay\n",
    "\n",
    "    - --> be involved in open source and start small! Almost only small things here\n",
    "    - --> Almost everybody have alreay used Jupyter... don't need to advocate \n",
    "    \n",
    "\\end{comment}"
   ]
  },
  {
   "cell_type": "markdown",
   "metadata": {},
   "source": [
    "# A small recall: what is the Jupyter notebook \n",
    "\n",
    "(formerly the IPython notebook)\n",
    "\n",
    "- a browser application that allows to create and share live documents which embed text, code and multimedia. \n",
    "- use as an IDE with integrated documentation capabilities, \n",
    "- for reproductible research\n",
    "- as an authoring system, \n",
    "- demos or full experimentations for teaching. \n",
    "\n",
    "In these three areas (and more), the basic capabilities of the notebook can be extended through notebook extensions.\n"
   ]
  },
  {
   "cell_type": "markdown",
   "metadata": {
    "collapsed": true,
    "solution": "shown"
   },
   "source": [
    "## Markdown cells\n",
    "Can mix [markdown](https://github.com/adam-p/markdown-here/wiki/Markdown-Cheatsheet), with\n",
    "- *emphasis*, \n",
    "- **strong emphasis**,\n",
    "- lists\n",
    "- support for images, $\\LaTeX$ equations, e.g. \n",
    "\\begin{equation}\n",
    "\\sum_{n=0}^{N-1} x[n] e^{j2\\pi f n}\n",
    "\\end{equation}\n",
    "etc..."
   ]
  },
  {
   "cell_type": "markdown",
   "metadata": {},
   "source": [
    "## Code cells"
   ]
  },
  {
   "cell_type": "code",
   "execution_count": null,
   "metadata": {
    "collapsed": true
   },
   "outputs": [],
   "source": [
    "import numpy as np\n",
    "def random_letters(size=1, maxletter=52):\n",
    "    import string\n",
    "    return [string.ascii_letters[k] \n",
    "            for k in np.random.randint( 0, maxletter, size=size)]\n",
    "\n",
    "z = random_letters(12, 26)\n",
    "print(z)"
   ]
  },
  {
   "cell_type": "code",
   "execution_count": null,
   "metadata": {
    "collapsed": true
   },
   "outputs": [],
   "source": [
    "%matplotlib inline"
   ]
  },
  {
   "cell_type": "code",
   "execution_count": null,
   "metadata": {
    "collapsed": true
   },
   "outputs": [],
   "source": [
    "import matplotlib.pyplot as plt\n",
    "import numpy as np\n",
    "plt.plot(np.random.randn(256))"
   ]
  },
  {
   "cell_type": "markdown",
   "metadata": {},
   "source": [
    "\\begin{textboxa}The basic capabilities of the notebook can be extended through notebook extensions. These can modify the UI or behavior of the notebook, such as adding buttons to your toolbar, new keyboard shortcuts, etc. They can also add new functionalities. \n",
    "\\end{textboxa}"
   ]
  },
  {
   "cell_type": "markdown",
   "metadata": {},
   "source": [
    "# Example of a small toy extension"
   ]
  },
  {
   "cell_type": "markdown",
   "metadata": {},
   "source": [
    "*from [https://mindtrove.info/4-ways-to-extend-jupyter-notebook/#nb-extensions](https://mindtrove.info/4-ways-to-extend-jupyter-notebook/#nb-extensions)*\n",
    "\n",
    "Jupyter Notebook extensions (nbextensions) are javaScript modules. \n",
    "\n",
    "To write a new extension, you must implement your logic in a JavaScript file conforming to the **AMD specification** so that Jupyter can load it using RequireJS. You should define and **export a load_ipython_extension function** in your module so that Jupyter can invoke it after initializing its own components. \n",
    "\n",
    "Within that function, you are free to \n",
    "- manipulate the DOM of the page, \n",
    "- invoke Jupyter JavaScript APIs, \n",
    "- listen for Jupyter events, \n",
    "- load other modules, and so on."
   ]
  },
  {
   "cell_type": "markdown",
   "metadata": {},
   "source": [
    "## First extension \n",
    "\n",
    "The extension features a menu button and a keyboard shortcut. It displays an alert dialog. You can test it with the \"T\" button on the toolbar. \n",
    "\n",
    "[Source: demo1.js](http://localhost:8888/nbextensions/toggleCase/demo1.js)"
   ]
  },
  {
   "cell_type": "markdown",
   "metadata": {},
   "source": [
    "<span class=\"mark\">The line below loads the extension we devised. \n",
    "Since the javascript is stored silently in a `<script>` tag in the output. The extension will be reloaded automatically when reloading the notebook.\n",
    "\n",
    "<span class=\"mark\">To avoid this, you will need to clear the output (or all outputs) of the relevant cells before reloading, by the `Cell/Curent Output/Clear` menu; then save and reload.</span></span> "
   ]
  },
  {
   "cell_type": "code",
   "execution_count": 14,
   "metadata": {},
   "outputs": [
    {
     "data": {
      "application/javascript": [
       "Jupyter.utils.load_extensions('toggleCase/demo1')"
      ],
      "text/plain": [
       "<IPython.core.display.Javascript object>"
      ]
     },
     "metadata": {},
     "output_type": "display_data"
    }
   ],
   "source": [
    "%%javascript\n",
    "Jupyter.utils.load_extensions('toggleCase/demo1')"
   ]
  },
  {
   "cell_type": "markdown",
   "metadata": {},
   "source": [
    "## Organizing \n",
    "\n",
    "- button and shorcut definitions can be devoted to separated functions. A initialisation step can be added. \n",
    "\n",
    "[Source: demo2.js](http://localhost:8888/nbextensions/toggleCase/demo2.js)"
   ]
  },
  {
   "cell_type": "code",
   "execution_count": 15,
   "metadata": {},
   "outputs": [
    {
     "data": {
      "application/javascript": [
       "Jupyter.utils.load_extensions('toggleCase/demo2')"
      ],
      "text/plain": [
       "<IPython.core.display.Javascript object>"
      ]
     },
     "metadata": {},
     "output_type": "display_data"
    }
   ],
   "source": [
    "%%javascript\n",
    "Jupyter.utils.load_extensions('toggleCase/demo2')"
   ]
  },
  {
   "cell_type": "markdown",
   "metadata": {},
   "source": [
    "## Something to do \n",
    "\n",
    "- A function is added to do something with the extension. When a text is selected and the button pushed, or the shortcut pressed, then the case of that text is toogled. \n",
    "\n",
    "[Source: demo3.js](http://localhost:8888/nbextensions/toggleCase/demo3.js)\n"
   ]
  },
  {
   "cell_type": "code",
   "execution_count": 16,
   "metadata": {},
   "outputs": [
    {
     "data": {
      "application/javascript": [
       "Jupyter.utils.load_extensions('toggleCase/demo3')"
      ],
      "text/plain": [
       "<IPython.core.display.Javascript object>"
      ]
     },
     "metadata": {},
     "output_type": "display_data"
    }
   ],
   "source": [
    "%%javascript\n",
    "Jupyter.utils.load_extensions('toggleCase/demo3')"
   ]
  },
  {
   "cell_type": "markdown",
   "metadata": {},
   "source": [
    "## Loading a configuration\n",
    "\n",
    "- <span class=\"burk\">It is possible to store parameters in system, and even *edit* them.</span> \n",
    "- The great utility here is the [nbextensions_configurator](https://github.com/Jupyter-contrib/jupyter_nbextensions_configurator) by @jcb91  [Application](http://localhost:8888/nbextensions/) -- This is a *server extension*. \n",
    "     - the parameters are specified via a *yaml* description file\n",
    "     - they can be inspected, selected, edited via a UI - Here, we edit the keyboard shortcut\n",
    "\n",
    "[Source: demo4.js](http://localhost:8888/nbextensions/toggleCase/demo4.js)\n",
    "\n",
    "[demo4.yaml](https://raw.githubusercontent.com/jfbercher/small_nbextensions/master/toggleCase/toggleCase.yaml)"
   ]
  },
  {
   "cell_type": "code",
   "execution_count": null,
   "metadata": {
    "collapsed": true
   },
   "outputs": [],
   "source": [
    "%%javascript\n",
    "Jupyter.utils.load_extensions('toggleCase/demo4')"
   ]
  },
  {
   "cell_type": "markdown",
   "metadata": {
    "collapsed": true
   },
   "source": [
    "## Ensuring correct loading by waiting for the notebook or kernel to be fully available. \n",
    "\n",
    "Indeed, <span class=\"mark\">it is possible that the extension is loaded **before** the notebook is fully loaded</span>. \n",
    "But sometimes the extension needs the notebook to be fully ready, or the kernel to be started. \n",
    "\n",
    "- This check is not necessary here, though, but an example is provided.\n",
    "\n",
    "Also a css can be loaded in the notebook with styles added for the nbextension. \n",
    "\n",
    "[Source: toggleCase](http://localhost:8888/nbextensions/toggleCase/toggleCase.js)"
   ]
  },
  {
   "cell_type": "code",
   "execution_count": 17,
   "metadata": {},
   "outputs": [
    {
     "data": {
      "application/javascript": [
       "Jupyter.utils.load_extensions('toggleCase/toggleCase')"
      ],
      "text/plain": [
       "<IPython.core.display.Javascript object>"
      ]
     },
     "metadata": {},
     "output_type": "display_data"
    }
   ],
   "source": [
    "%%javascript\n",
    "Jupyter.utils.load_extensions('toggleCase/toggleCase')"
   ]
  },
  {
   "cell_type": "markdown",
   "metadata": {},
   "source": [
    "## Summary"
   ]
  },
  {
   "cell_type": "raw",
   "metadata": {
    "collapsed": true
   },
   "source": [
    "So, we see that the structure of a nbextension is\n",
    "\n",
    "DIRECTORY _____  main.js               // main script\n",
    "            |__  extension_name.yaml   // extension description and parameters (for @jcb91's nbextension configurator)         \n",
    "            |__  main.css              // optional css\n",
    "            |__  other.js              // other js file that can be loaded by the main one\n",
    "                        "
   ]
  },
  {
   "cell_type": "markdown",
   "metadata": {},
   "source": [
    "**Loading (one shot/one notebook)** : `Jupyter.utils.load_extensions('DIRECTORY/main.js')`\n",
    "\n",
    "**Loading (permanently/any notebook)** : `jupyter nbextension enable DIRECTORY/main.js`\n",
    "\n",
    "**Loading via the nbextension_configurator**: use the UI in `Edit/nbextensions Config` or directly at [http://localhost:8888/nbextensions](http://localhost:8888/nbextensions) (adapt the port if your server runs on a different port, maybe on a different address if you use JupyterHub)"
   ]
  },
  {
   "cell_type": "markdown",
   "metadata": {},
   "source": [
    "# A tour of some nbextensions"
   ]
  },
  {
   "cell_type": "markdown",
   "metadata": {},
   "source": [
    "We will have a tour of some nbextensions, pointing out\n",
    "- history, contributors\n",
    "- new functionalities\n",
    "- some implementation details (principles and Jupyter API)\n",
    "- specific highlights"
   ]
  },
  {
   "cell_type": "markdown",
   "metadata": {},
   "source": [
    "1. classroom\n",
    "2. usability/authoring\n",
    "3. coding"
   ]
  },
  {
   "cell_type": "markdown",
   "metadata": {},
   "source": [
    "## Classroom/Education"
   ]
  },
  {
   "cell_type": "markdown",
   "metadata": {},
   "source": [
    "  - classroom e.g: [exercise](http://jupyter-contrib-nbextensions.readthedocs.io/en/latest/nbextensions/exercise/readme.html), [exercise2](http://jupyter-contrib-nbextensions.readthedocs.io/en/latest/nbextensions/exercise2/readme.html) (include exercises with hidden solutions), [highlighter](http://jupyter-contrib-nbextensions.readthedocs.io/en/latest/nbextensions/highlighter/readme.html) (select, highlight, annotate text), [snippets menu](http://jupyter-contrib-nbextensions.readthedocs.io/en/latest/nbextensions/snippets_menu/readme.html).."
   ]
  },
  {
   "cell_type": "markdown",
   "metadata": {},
   "source": [
    "### exercise and exercise2\n",
    "\n",
    "- Exercise is an extension by @juhasch Juergen Hasch\n",
    "- Exercise 2 is a fork by @jfbercher with a different layout -- but the underlying logic is the same\n",
    "\n",
    "demo [here](http://localhost:8888/nbextensions/nbextensions_configurator/rendermd/nbextensions/exercise/readme.md)\n",
    "or\n",
    "[here](http://localhost:8888/notebooks/Example%20exercise2.ipynb)"
   ]
  },
  {
   "cell_type": "markdown",
   "metadata": {},
   "source": [
    "**Internals** exercise and exercise2 add respectively a solution and solution2 metadata to solution cells, with for value the current state hidden/shown of the solution. \n",
    "- For exercise, a div with the plus/minus character is prepended to the solution heading cell. \n",
    "- For exercise2, a flex-wrap style is added to the solution heading cell and a checkbox widget, with some css styling, is appended to the cell.\n",
    "\n",
    "☞ At startup, a loop over all cells tests if these metadata are present and restore the widgets, and the visibility to  the last recorded state. \n",
    "[source](http://localhost:8888/nbextensions/exercise/main.js)\n",
    "\n",
    "\n",
    "☞ Jupyter API: `cell = IPython.notebook.get_selected_cell();` `IPython.notebook.select_next();`\n",
    "The cell object has a metadata attribute (another object) --> `cell.metadata.solution = shown`\n"
   ]
  },
  {
   "cell_type": "markdown",
   "metadata": {},
   "source": [
    "### Highlighter\n",
    "\n",
    "**Use case:** With IPython notebooks distributed to students, in class, let them highlight what they feel important. \n",
    "\n",
    "demo [here](http://localhost:8888/nbextensions/nbextensions_configurator/rendermd/nbextensions/highlighter/README.md)\n",
    "\n",
    "[Source](http://localhost:8888/nbextensions/highlighter/highlighter.js)"
   ]
  },
  {
   "cell_type": "markdown",
   "metadata": {},
   "source": [
    "**Internals** \n",
    "\n",
    "\n",
    "☞ API: `var selectedText = window.getSelection().toString();` \n",
    "`cell_text = cell_text.replace(identifiedText,highlight(identifiedText,scheme))`\n",
    "(command mode)\n",
    "\n",
    "☞ Jupyter/codemirror API: `var cm = cell.code_mirror;  var selectedText = cm.getSelection()`\n",
    "`cm.replaceSelection(highlight(selectedText,scheme))`\n",
    "(edit mode) \n",
    "\n",
    "☞ A fuzzy search is implemented to align the rendered text (command mode) to the underlying source text"
   ]
  },
  {
   "cell_type": "markdown",
   "metadata": {},
   "source": [
    "**Highlights can be exported to html/LaTeX**\n",
    "\n",
    "- see [this documentation](http://localhost:8888/nbextensions/highlighter/export_highlights.html)\n",
    "- Conversion is achieved using `nbconvert`. This app. supports pre and postprocessing. \n",
    "\n",
    "The pre-post script is [here](http://localhost:8888/files/pp_highlighter.py). \n",
    "\n",
    "The key for conversion resides in subclassing \n",
    "```\n",
    "preprocess_cell(self, cell, resources, index)\n",
    "```\n",
    "and `postprocess(self, input)`\n"
   ]
  },
  {
   "cell_type": "markdown",
   "metadata": {},
   "source": [
    "### Snippets menu\n",
    "\n",
    "That's a great extension by @moble (with contribs from @jcb91)\n",
    "\n",
    "[documentation](http://localhost:8888/nbextensions/nbextensions_configurator/rendermd/nbextensions/snippets_menu/readme.md) and demo"
   ]
  },
  {
   "cell_type": "markdown",
   "metadata": {},
   "source": [
    "## Usability/authoring\n",
    "\n",
    " - notebook usage and publication: [toc2](http://jupyter-contrib-nbextensions.readthedocs.io/en/latest/nbextensions/toc2/README.html) (table of contents/navigation menu),  [jupyter_highlight_selected_word](https://github.com/jcb91/jupyter_highlight_selected_word),[collapsible headings](http://jupyter-contrib-nbextensions.readthedocs.io/en/latest/nbextensions/collapsible_headings/readme.html), [python markdown](http://jupyter-contrib-nbextensions.readthedocs.io/en/latest/nbextensions/python-markdown/readme.html),  [nbTranslate](http://jupyter-contrib-nbextensions.readthedocs.io/en/latest/nbextensions/nbTranslate/README.html) (multilanguage support), [latex_envs](http://jupyter-contrib-nbextensions.readthedocs.io/en/latest/nbextensions/latex_envs/README.html) (use LaTeX environments within the notebook -- and export them)"
   ]
  },
  {
   "cell_type": "markdown",
   "metadata": {
    "collapsed": true
   },
   "source": [
    "### The toc2 extension\n"
   ]
  },
  {
   "cell_type": "markdown",
   "metadata": {},
   "source": [
    "This is a fork of  @minrk's toc extension, with many additional capabilities. It is a quite big extension (essentially) maintained by @jfbercher.\n",
    "\n",
    "[documentation](http://localhost:8888/nbextensions/nbextensions_configurator/rendermd/nbextensions/toc2/README.md) and demo\n",
    "\n",
    "Sources : \n",
    "- [main](http://localhost:8888/nbextensions/toc2/main.js);\n",
    "- [toc2](http://localhost:8888/nbextensions/toc2/toc2.js)"
   ]
  },
  {
   "cell_type": "markdown",
   "metadata": {
    "collapsed": true
   },
   "source": []
  },
  {
   "cell_type": "markdown",
   "metadata": {},
   "source": [
    "**Internals** \n",
    "\n",
    "Many things, but let us point out\n",
    "\n",
    "- Configuration is stored in part in system (`notebook.json`) and in each edited notebooks. Thus config can be modified per notebook and states stored (and restored)\n",
    "- Additional css is generated on the fly from user parameters (as entered in configurator UI, eg colors)\n",
    "- Structure for waiting full availabilty of the notebook before running extension code.\n"
   ]
  },
  {
   "cell_type": "markdown",
   "metadata": {},
   "source": [
    "**Exporting** the table of contents\n",
    "\n",
    "Since the toc is generated and updated on the fly, with many options and functionalities, the idea was to\n",
    "- *embed in the html output the very same javascript that is used in the liveNotebook*\n",
    "   - [jinja2 template](http://localhost:8888/files/toc2.tpl)\n",
    "   - [exporter](http://localhost:8888/files/toc2.py) (python file) --> only set the template name\n",
    "   - entry point set in [setup.py](http://localhost:8888/files/setup.py) recognized by `nbconvert`, as in \n",
    "   ```\n",
    "     'nbconvert.exporters': [\n",
    "                'html_toc = jupyter_contrib_nbextensions.nbconvert_support.toc2:TocExporter',  # noqa: E501\n",
    "   ...\n",
    "    ```"
   ]
  },
  {
   "cell_type": "markdown",
   "metadata": {},
   "source": [
    "Export can be done as follows:\n",
    "\n",
    "```jupyter nbconvert FILE.ipynb --template toc2```\n",
    "\n",
    "An exporter is also available. It is possible to export to html with toc by\n",
    "\n",
    "```jupyter nbconvert --to html_toc FILE.ipynb```\n",
    "\n",
    "If you also use latex_envs, you can embed both functionalities while exporting with\n",
    "\n",
    "```jupyter nbconvert --to html_with_toclenvs FILE.ipynb```\n",
    "\n",
    "See the example just below:"
   ]
  },
  {
   "cell_type": "code",
   "execution_count": null,
   "metadata": {
    "collapsed": true
   },
   "outputs": [],
   "source": [
    "%%bash\n",
    "jupyter nbconvert --to html_toc JupExtensions_talk.ipynb\n",
    "xdg-open JupExtensions_talk.html"
   ]
  },
  {
   "cell_type": "markdown",
   "metadata": {},
   "source": [
    "### Python markdown\n",
    "\n",
    "An extension by @juhasch which enables to include variable values in the markdown code. \n",
    "\n",
    "**!** -- **Needs the notebook to be *trusted***"
   ]
  },
  {
   "cell_type": "code",
   "execution_count": 13,
   "metadata": {
    "run_control": {
     "marked": false
    }
   },
   "outputs": [
    {
     "data": {
      "text/plain": [
       "array([-1.62373111, -0.10178393, -1.8097911 ])"
      ]
     },
     "execution_count": 13,
     "metadata": {},
     "output_type": "execute_result"
    }
   ],
   "source": [
    "import numpy as np\n",
    "np.random.seed(55)\n",
    "a = np.random.randn(3)\n",
    "a"
   ]
  },
  {
   "cell_type": "code",
   "execution_count": null,
   "metadata": {
    "collapsed": true
   },
   "outputs": [],
   "source": [
    "%%javascript\n",
    "Jupyter.utils.load_extensions('python-markdown/main')"
   ]
  },
  {
   "cell_type": "code",
   "execution_count": 1,
   "metadata": {
    "collapsed": true
   },
   "outputs": [],
   "source": [
    "x=3"
   ]
  },
  {
   "cell_type": "markdown",
   "metadata": {
    "variables": {
     " x ": "3"
    }
   },
   "source": [
    "\n",
    "`variable x is {{ x }}`\n",
    "variable x is {{ x }}"
   ]
  },
  {
   "cell_type": "markdown",
   "metadata": {
    "variables": {
     "a[1]": "-0.10178393227075644"
    }
   },
   "source": [
    "This is a markdown **text cell** with the value of a variable, {{a[1]}} inserted in it. "
   ]
  },
  {
   "cell_type": "markdown",
   "metadata": {},
   "source": [
    "### latex_envs"
   ]
  },
  {
   "cell_type": "markdown",
   "metadata": {},
   "source": [
    "The `latex_envs` extension enables\n",
    "\n",
    "- to use many familiar $\\LaTeX$ structures in the notebook; \n",
    "- export all that (in $\\LaTeX$ and html) \n",
    "- and enables to copy and paste from $\\LaTeX$ documents, \n",
    "\n",
    "\n",
    "\n",
    "[documentation](http://localhost:8888/notebooks/JFB/JupNbextensions_talk/latex_env_doc.ipynb) and demo. "
   ]
  },
  {
   "cell_type": "markdown",
   "metadata": {},
   "source": [
    "**Internals/Highlights** \n",
    "\n",
    "Many things, but let us point out\n",
    "\n",
    "- `latex_envs` menu\n",
    "- toolbar\n",
    "- read user configuration/extension from json files\n",
    "- store configuration in notebook's metadata\n"
   ]
  },
  {
   "cell_type": "markdown",
   "metadata": {},
   "source": [
    "**Exporting** \n",
    "\n",
    "- template `latex_envs.tpl`\n",
    "- an entry point \n",
    "\n",
    "```\n",
    "jupyter nbconvert --to html_with_lenvs FILE.ipynb\n",
    "```\n",
    "It should be noted that the rendering is done exactly in the same way as in the livenotebook. Actually, it is the very same javascript which is run in the html file, as for the `toc2` nbextension.\n",
    "\n",
    "[The exporter](http://localhost:8888/edit/latex_envs.py)"
   ]
  },
  {
   "cell_type": "markdown",
   "metadata": {},
   "source": [
    "\\begin{theorem}\\label{theo:one}\n",
    "This is a first theorem\n",
    "\\end{theorem}\n",
    "\n",
    "\\begin{theorem}\\label{theo:two}\n",
    "And a second one\n",
    "\\end{theorem}\n",
    "\n",
    "\\begin{exercise}\\label{exo:exo1}\n",
    "And an exercise\n",
    "\\end{exercise}\n",
    "\n",
    "With a reference to theo:one \\ref{theo:one} and another to theo:two \\ref{theo:two}"
   ]
  },
  {
   "cell_type": "markdown",
   "metadata": {},
   "source": [
    "### nbTranslate"
   ]
  },
  {
   "cell_type": "markdown",
   "metadata": {},
   "source": [
    "\n",
    "[documentation](http://localhost:8888/nbextensions/nbextensions_configurator/rendermd/nbextensions/nbTranslate/README.md) and demo\n",
    "\n",
    "\n",
    "Source:\n",
    "\n",
    "- [main](http://localhost:8888/nbextensions/nbTranslate/main.js);\n",
    "- [nbTranslate](http://localhost:8888/nbextensions/nbTranslate/nbTranslate.js)"
   ]
  },
  {
   "cell_type": "code",
   "execution_count": 5,
   "metadata": {},
   "outputs": [
    {
     "data": {
      "application/javascript": [
       "Jupyter.utils.load_extensions('nbTranslate/main')"
      ],
      "text/plain": [
       "<IPython.core.display.Javascript object>"
      ]
     },
     "metadata": {},
     "output_type": "display_data"
    }
   ],
   "source": [
    "%%javascript\n",
    "Jupyter.utils.load_extensions('nbTranslate/main')"
   ]
  },
  {
   "cell_type": "markdown",
   "metadata": {
    "lang": "en"
   },
   "source": [
    "A small text with an equation in it, an why not, a\n",
    "definition\n",
    "\\begin{definition}\n",
    "Something on $x_k$ for $k>0$\n",
    "\\end{definition}"
   ]
  },
  {
   "cell_type": "markdown",
   "metadata": {
    "lang": "bs"
   },
   "source": [
    "Mala tekst jednadžba u njemu, što je zašto ne, a\n",
    "definicija\n",
    "\\begin{definition}\n",
    "Nešto o $x_k$ za $k>0$\n",
    "\\end{definition}"
   ]
  },
  {
   "cell_type": "markdown",
   "metadata": {
    "lang": "en"
   },
   "source": [
    "Un petit texte avec une équation, et pourquoi pas, un\n",
    "définition\n",
    "\\begin{definition}\n",
    "Quelque chose sur $x_k$ pour $k>0$\n",
    "\\end{definition}"
   ]
  },
  {
   "cell_type": "markdown",
   "metadata": {},
   "source": [
    "**Internals/Highlights** \n",
    "\n",
    "Many things, but let us point out\n",
    "\n",
    "- `Langs` menu\n",
    "- configuration toolbar\n",
    "- Request to a web service (google translate) \n",
    "- configuration stored in notebook's metadata (langs in notebook)\n"
   ]
  },
  {
   "cell_type": "markdown",
   "metadata": {},
   "source": [
    "**Exporting** \n",
    "\n",
    "It is possible to extract one language from the multilanguage notebook. \n",
    "An exporter with an entry-point selectLanguage is provided that converts the notebook into another one as follows\n",
    "```\n",
    "jupyter nbconvert --to selectLanguage --NotebookLangExporter.language=lang  FILE.ipynb\n",
    "```"
   ]
  },
  {
   "cell_type": "markdown",
   "metadata": {},
   "source": [
    "### Some other nice extensions\n",
    "\n",
    "By @jcb91\n",
    "\n",
    "- [jupyter_highlight_selected_word](https://github.com/jcb91/jupyter_highlight_selected_word),\n",
    "- [collapsible headings](http://jupyter-contrib-nbextensions.readthedocs.io/en/latest/nbextensions/collapsible_headings/readme.html),"
   ]
  },
  {
   "cell_type": "markdown",
   "metadata": {},
   "source": [
    "## Code developpement\n",
    "\n",
    "- code developpement: [code_prettify](http://jupyter-contrib-nbextensions.readthedocs.io/en/latest/nbextensions/code_prettify/README_code_prettify.html) (code formatter via yapf or auto PEP8), [2to3](http://jupyter-contrib-nbextensions.readthedocs.io/en/latest/nbextensions/code_prettify/README_2to3.html)  (python converter),\n",
    "[hinterland](http://jupyter-contrib-nbextensions.readthedocs.io/en/latest/nbextensions/hinterland/README.html),\n",
    "[runtools](http://jupyter-contrib-nbextensions.readthedocs.io/en/latest/nbextensions/runtools/readme.html), [codefolding](http://jupyter-contrib-nbextensions.readthedocs.io/en/latest/nbextensions/codefolding/readme.html), [varinspector](http://jupyter-contrib-nbextensions.readthedocs.io/en/latest/nbextensions/varInspector/README.html) (variable inspector), \n",
    "     "
   ]
  },
  {
   "cell_type": "markdown",
   "metadata": {},
   "source": [
    "### Code_prettify / 2to3 / autopep8\n",
    "\n",
    "**A bit of history**\n",
    "\n",
    "Originally, a request was sent on `jupyter_contrib_nbextensions` for using YAPF for Python code formatting. \n",
    "This was done using a simple strategy [yapf_ext](http://localhost:8888/files/README_yapf_ext.md) / [source](http://localhost:8888/files/yapf_ext.js)\n",
    " \n",
    "\n",
    "- read the cell content\n",
    "- transform it using a call to the python kernel\n",
    "\n",
    "This was rapidly extended to recognize the running kernel and reformat accordingly (using ` formatR` and `jsbeautify`) under the name [code_prettify](http://localhost:8888/nbextensions/nbextensions_configurator/rendermd/nbextensions/code_prettify/README_code_prettify.md). \n",
    "\n",
    "Another request on `jupyter_contrib_nbextensions` was sent for a 2to3 conversion. The architecture for the extension is the same. With @jcb91, we developped a general library for that: [KerneExecOnCells library](http://localhost:8888/nbextensions/nbextensions_configurator/rendermd/nbextensions/code_prettify/README.md). A [2to3](http://localhost:8888/nbextensions/nbextensions_configurator/rendermd/nbextensions/code_prettify/README_2to3.md) plugin was defined, as well as a [autopep8](http://localhost:8888/nbextensions/nbextensions_configurator/rendermd/nbextensions/code_prettify/README_autopep8.md) reformatter plugin. \n",
    "\n",
    "\n",
    "[Source for code_prettify as a plugin](http://localhost:8888/nbextensions/code_prettify/code_prettify.js)\n"
   ]
  },
  {
   "cell_type": "markdown",
   "metadata": {},
   "source": [
    "### Some other nice extensions\n",
    "\n",
    "- [hinterland](http://localhost:8888/nbextensions/nbextensions_configurator/rendermd/nbextensions/hinterland/README.md) by @jcb91\n",
    "- [runtools](http://localhost:8888/nbextensions/nbextensions_configurator/rendermd/nbextensions/runtools/readme.md) by @juhasch  \n",
    "- [codefolding](http://localhost:8888/nbextensions/nbextensions_configurator/rendermd/nbextensions/codefolding/readme.md),\n",
    "- [codefolding](http://localhost:8888/nbextensions/nbextensions_configurator/rendermd/nbextensions/codefolding/readme.md)\n",
    "- [ExecuteTime](http://localhost:8888/nbextensions/nbextensions_configurator/rendermd/nbextensions/execute_time/readme.md)"
   ]
  },
  {
   "cell_type": "code",
   "execution_count": null,
   "metadata": {
    "collapsed": true
   },
   "outputs": [],
   "source": [
    "# demo for hinterland\n"
   ]
  },
  {
   "cell_type": "markdown",
   "metadata": {
    "solution": "hidden"
   },
   "source": [
    "### Variable inspector\n",
    "\n",
    "A request on `jupyter_contrib_nbextensions` asked for a variable inspector like in some commercial packages as well as in RStudio. A small googling provided [some hints](https://github.com/jupyter-widgets/ipywidgets/blob/ffa094e061c899292036049b00ff93e46e8b4691/docs/source/examples/Variable%20Inspector.ipynb) from ipywidgets. \n",
    "\n",
    "Then the extension was built using lot of code from toc2 and the same approach as in `code-prettify`, that is call the kernel with some provided code and catch the result.\n",
    "\n",
    "\n",
    "[varInspector documentation](http://localhost:8888/nbextensions/nbextensions_configurator/rendermd/nbextensions/varInspector/README.md)\n",
    "\n",
    "[source code](http://localhost:8888/nbextensions/varInspector/main.js);\n",
    "\n",
    "[kernel code](http://localhost:8888/nbextensions/varInspector/var_list.py);\n",
    "\n",
    "**events**\n",
    "```\n",
    " // event: on cell execution, update the list of variables \n",
    "            events.on('execute.CodeCell', varRefresh);\n",
    "            events.on('varRefresh', varRefresh);\n",
    "   \n",
    " // on variable deletion   \n",
    " Jupyter.notebook.events.trigger('varRefresh')           \n",
    "```"
   ]
  },
  {
   "cell_type": "code",
   "execution_count": null,
   "metadata": {
    "collapsed": true
   },
   "outputs": [],
   "source": [
    "w = \"A long string \""
   ]
  },
  {
   "cell_type": "markdown",
   "metadata": {},
   "source": [
    "# Miscellaneous\n",
    "\n",
    "- **Building a nbextension package** Actually a python package, embedding the javascript files, the templates, and defining entry points. See [jupyter_highlight_selected_word](https://github.com/jcb91/jupyter_highlight_selected_word) or [jupyter_latex_envs](https://github.com/jfbercher/jupyter_latex_envs) for examples.\n",
    "- **Installing the [jupyter_contrib_nbextensions](https://github.com/ipython-contrib/jupyter_contrib_nbextensions)** See instructions on the repo.\n",
    "- **This document** will be available shortly, say before next week, on  https://github.com/jfbercher"
   ]
  }
 ],
 "metadata": {
  "author": "Some extensions for Jupyter/IPython notebook",
  "celltoolbar": "Edit Metadata",
  "kernelspec": {
   "display_name": "Python 3",
   "language": "python",
   "name": "python3"
  },
  "language_info": {
   "codemirror_mode": {
    "name": "ipython",
    "version": 3
   },
   "file_extension": ".py",
   "mimetype": "text/x-python",
   "name": "python",
   "nbconvert_exporter": "python",
   "pygments_lexer": "ipython3",
   "version": "3.5.0"
  },
  "latex_envs": {
   "LaTeX_envs_menu_present": true,
   "autocomplete": true,
   "bibliofile": "latex_bib.bib",
   "cite_by": "apalike",
   "current_citInitial": 1,
   "eqLabelWithNumbers": true,
   "eqNumInitial": 1,
   "hotkeys": {
    "equation": "ctrl-e"
   },
   "labels_anchors": false,
   "latex_user_defs": false,
   "report_style_numbering": false,
   "user_envs_cfg": false
  },
  "nbTranslate": {
   "displayLangs": [
    "en",
    "bs",
    "fr"
   ],
   "hotkey": "alt-t",
   "langInMainMenu": true,
   "sourceLang": "en",
   "targetLang": "bs",
   "useGoogleTranslate": true
  },
  "toc": {
   "colors": {
    "hover_highlight": "#DAA520",
    "running_highlight": "#FF0000",
    "selected_highlight": "#39ff00"
   },
   "moveMenuLeft": true,
   "nav_menu": {
    "height": "11px",
    "width": "251px"
   },
   "navigate_menu": false,
   "number_sections": true,
   "sideBar": true,
   "threshold": "4",
   "toc_cell": false,
   "toc_position": {
    "height": "306px",
    "left": "0px",
    "right": "20px",
    "top": "106px",
    "width": "198px"
   },
   "toc_section_display": "block",
   "toc_window_display": false,
   "widenNotebook": false
  },
  "varInspector": {
   "cols": {
    "lenName": 16,
    "lenType": 16,
    "lenVar": 40
   },
   "kernels_config": {
    "python": {
     "delete_cmd_postfix": "",
     "delete_cmd_prefix": "del ",
     "library": "var_list.py",
     "varRefreshCmd": "print(var_dic_list())"
    },
    "r": {
     "delete_cmd_postfix": ") ",
     "delete_cmd_prefix": "rm(",
     "library": "var_list.r",
     "varRefreshCmd": "cat(var_dic_list()) "
    }
   },
   "oldHeight": 170.666666,
   "position": {
    "height": "192px",
    "left": "363px",
    "right": "20px",
    "top": "21px",
    "width": "324px"
   },
   "types_to_exclude": [
    "module",
    "function",
    "builtin_function_or_method",
    "instance",
    "_Feature"
   ],
   "varInspector_section_display": "block",
   "window_display": false
  }
 },
 "nbformat": 4,
 "nbformat_minor": 2
}
